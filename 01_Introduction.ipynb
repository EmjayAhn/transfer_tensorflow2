{
 "cells": [
  {
   "cell_type": "markdown",
   "id": "338e4461-9fa2-4aa9-9495-530b2a4ec942",
   "metadata": {},
   "source": [
    "# Tensorflow 2.0 Tutorial\n",
    "- 본 jupyter notebook 은 Tensorflow 2.0 [youtube강의](https://www.youtube.com/watch?v=YglrA-qoKa4&list=PLS8gIc2q83OhM0RTktKDitgZGX5dHo7Vs&index=4) 와 [Official Tutorial](https://www.tensorflow.org/tutorials/quickstart/beginner?hl=ko)를 바탕으로 작성되었습니다."
   ]
  },
  {
   "cell_type": "markdown",
   "id": "83695bfd-139f-41af-837d-2beddf63144d",
   "metadata": {},
   "source": [
    "## 1. Tensorflow 2.0의 특징\n",
    "- Eager Execution\n",
    "    - 과거 제가 Tensorflow보다 Pytorch 를 선호했던 이유이기도 합니다. 기존의 Tensorflow 의 경우 그래프를 먼저 설계하고, 전체 설계된 그래프 내에 Session 을 통해 제가 주입하고자 하는 데이터를 넣는 방식으로 동작하였습니다. 이는 bug-fixing과 error code 해석을 매우 어렵게 만드는 요소이기도 했으며, 디버깅하는데 매우 많은 시간을 소모하게 하였습니다. 이로 인해 제가 연구개발하는 대부분의 프로젝트는 Pytorch를 선호하였으며, Tensorflow 2.0의 가장 큰 변환점이기도합니다."
   ]
  },
  {
   "cell_type": "markdown",
   "id": "75cbbd9b-01bc-4e5e-bb8d-eca30ddf3128",
   "metadata": {},
   "source": [
    "### 1.1 Eager Excution 예제"
   ]
  },
  {
   "cell_type": "code",
   "execution_count": 4,
   "id": "9790bf53-53f9-47d8-b4a9-d9f703fa688d",
   "metadata": {},
   "outputs": [
    {
     "name": "stdout",
     "output_type": "stream",
     "text": [
      "Current Version of Tensorflow 2.7.0\n",
      "c type: <class 'tensorflow.python.framework.ops.EagerTensor'>\n",
      "c = 15\n",
      "d type: <class 'numpy.int32'>\n",
      "c = 15\n",
      "d_to_tensor type: <class 'tensorflow.python.framework.ops.EagerTensor'>\n",
      "d = 15\n"
     ]
    }
   ],
   "source": [
    "import warnings\n",
    "warnings.filterwarnings('ignore')\n",
    "\n",
    "import tensorflow as tf\n",
    "import numpy as np\n",
    "\n",
    "print(\"Current Version of Tensorflow {}\".format(tf.__version__))\n",
    "\n",
    "a = tf.constant(5)\n",
    "b = tf.constant(10)\n",
    "\n",
    "#tensor 연산\n",
    "c = a + b\n",
    "print(\"c type: {}\".format(type(c)))\n",
    "print(\"c = {}\".format(c))\n",
    "\n",
    "# tensor to numpy\n",
    "d = c.numpy()\n",
    "print(\"d type: {}\".format(type(d)))\n",
    "print(\"c = {}\".format(d))\n",
    "\n",
    "# numpy to tensor\n",
    "d_to_tensor = tf.convert_to_tensor(d)\n",
    "print(\"d_to_tensor type: {}\".format(type(d_to_tensor)))\n",
    "print(\"d = {}\".format(d_to_tensor))\n"
   ]
  },
  {
   "cell_type": "markdown",
   "id": "2a276a2a-d996-4a87-8096-ce805cdc4c07",
   "metadata": {},
   "source": [
    "### 1.2 상수 선언\n",
    "- 과거에는 tensor 두개를 더해 print를 해보면, 데이터를 주입하기 전까지는 연산이 실행되지도 않고, Tensor안에 값을 확인하기 어려웠습니다.\n",
    "- Tensorflow 2.0 에서는 직관적으로 연산이 수행되는 것을 확인 할 수 있으며, numpy() 메소드로 값을 즉시 추출 할 수도 있습니다."
   ]
  },
  {
   "cell_type": "code",
   "execution_count": 2,
   "id": "34657399-5f79-455f-9f1d-4f2107ccfe56",
   "metadata": {},
   "outputs": [
    {
     "name": "stdout",
     "output_type": "stream",
     "text": [
      "tf.Tensor(9.0, shape=(), dtype=float32)\n",
      "9.0\n"
     ]
    }
   ],
   "source": [
    "import tensorflow as tf\n",
    "\n",
    "a = tf.constant(4.0)\n",
    "b = tf.constant(5.0)\n",
    "\n",
    "c = a + b\n",
    "print(c)\n",
    "print(c.numpy())"
   ]
  },
  {
   "cell_type": "markdown",
   "id": "96d12b76-2726-4128-bc03-50b34522be24",
   "metadata": {},
   "source": [
    "### 1.3 변수 선언\n",
    "- Tensorflow 1에서는 변수를 선언한뒤 반드시 초기화 과정과, 데이터 주입과정이 필요했으나 2.0 부터는 직관적으로 코드작성그대로 실행되는 것을 확인할 수 있습니다.\n",
    "- 아래 W는 Gaussian Normal Distribution 으로 W 를 초기화하고, 100Epoch 동안 update 되는 간단한 코드입니다. W 가중치를 .numpy()를 통해 간단히 확인할 수 있고, for 문이 실행되면서 W 역시 업데이트 되는 것을 확인 할 수 있습니다."
   ]
  },
  {
   "cell_type": "code",
   "execution_count": 3,
   "id": "a58627e1-45e3-4305-9f48-4b6349a3d6d4",
   "metadata": {},
   "outputs": [
    {
     "name": "stdout",
     "output_type": "stream",
     "text": [
      "Initial W = [[-0.6270585  1.6505305]\n",
      " [-2.9196198  0.3370828]]\n",
      "epoch: 0, W = [[-0.42705852  1.8505305 ]\n",
      " [-2.7196198   0.5370828 ]]\n",
      "epoch: 50, W = [[ 9.572937 11.850524]\n",
      " [ 7.280378 10.537078]]\n"
     ]
    }
   ],
   "source": [
    "# 가우시안 Distribution 초기화\n",
    "W = tf.Variable(tf.random.normal([2,2]))\n",
    "print(\"Initial W = {}\".format(W.numpy()))\n",
    "\n",
    "for epoch in range(100):\n",
    "    W = W + 0.2\n",
    "    if (epoch % 50)==0:\n",
    "        print(\"epoch: {}, W = {}\".format(epoch, W.numpy()))"
   ]
  }
 ],
 "metadata": {
  "kernelspec": {
   "display_name": "Python 3 (ipykernel)",
   "language": "python",
   "name": "python3"
  },
  "language_info": {
   "codemirror_mode": {
    "name": "ipython",
    "version": 3
   },
   "file_extension": ".py",
   "mimetype": "text/x-python",
   "name": "python",
   "nbconvert_exporter": "python",
   "pygments_lexer": "ipython3",
   "version": "3.9.7"
  }
 },
 "nbformat": 4,
 "nbformat_minor": 5
}
