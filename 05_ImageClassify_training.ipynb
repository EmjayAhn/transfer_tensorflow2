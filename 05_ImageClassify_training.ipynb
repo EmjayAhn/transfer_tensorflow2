{
 "cells": [
  {
   "cell_type": "markdown",
   "id": "c99db106-a9f8-419d-96f3-e5d90fc9f471",
   "metadata": {},
   "source": [
    "# Full Workflow in DeepLearning (Image Classification) with Tensorflow2.0"
   ]
  },
  {
   "cell_type": "markdown",
   "id": "a71dedf4-2154-4756-96b2-82d6c396fff9",
   "metadata": {},
   "source": [
    "## Import Libraries\n",
    "- tensorflow 2.0"
   ]
  },
  {
   "cell_type": "code",
   "execution_count": 23,
   "id": "338daa20-d505-48a3-ae72-78bc8c478373",
   "metadata": {},
   "outputs": [
    {
     "name": "stdout",
     "output_type": "stream",
     "text": [
      "2.5.2\n"
     ]
    }
   ],
   "source": [
    "import tensorflow as tf\n",
    "\n",
    "from tensorflow.keras.layers import Dense, Flatten, Conv2D\n",
    "from tensorflow.keras import Model\n",
    "\n",
    "from tqdm import tqdm\n",
    "print(tf.__version__)"
   ]
  },
  {
   "cell_type": "markdown",
   "id": "fb68663f-71be-4f6a-a2aa-0db55a38a4a3",
   "metadata": {},
   "source": [
    "## Data Load : Mnist Toy Dataset"
   ]
  },
  {
   "cell_type": "code",
   "execution_count": 6,
   "id": "e650b90c-cbc8-4498-ad4c-0e61dedbdce6",
   "metadata": {},
   "outputs": [
    {
     "name": "stdout",
     "output_type": "stream",
     "text": [
      "Before add a channel x_train shape : (60000, 28, 28)\n",
      "Before add a channel x_test shape : (10000, 28, 28)\n",
      "y_train: (60000,), y_test: (10000,)\n",
      "After add a channel x_train shape : (60000, 28, 28, 1)\n",
      "After add a channel x_test shape : (10000, 28, 28, 1)\n",
      "y_train: (60000,), y_test: (10000,)\n"
     ]
    }
   ],
   "source": [
    "mnist = tf.keras.datasets.mnist\n",
    "\n",
    "# loading\n",
    "(x_train, y_train), (x_test, y_test) = mnist.load_data()\n",
    "# normalization 최대 pixel 값 조정\n",
    "x_train, x_test = x_train / 255.0, x_test / 255.0\n",
    "\n",
    "print(\"Before add a channel x_train shape : {}\".format(x_train.shape))\n",
    "print(\"Before add a channel x_test shape : {}\".format(x_test.shape))\n",
    "print(\"y_train: {}, y_test: {}\".format(y_train.shape, y_test.shape))\n",
    "\n",
    "# Add a channel dimension\n",
    "x_train = x_train[..., tf.newaxis].astype(\"float32\")\n",
    "x_test = x_test[..., tf.newaxis].astype(\"float32\")\n",
    "\n",
    "print(\"After add a channel x_train shape : {}\".format(x_train.shape))\n",
    "print(\"After add a channel x_test shape : {}\".format(x_test.shape))\n",
    "print(\"y_train: {}, y_test: {}\".format(y_train.shape, y_test.shape))"
   ]
  },
  {
   "cell_type": "markdown",
   "id": "db68d247-f7c1-4151-bf31-13c08b09ab75",
   "metadata": {
    "tags": []
   },
   "source": [
    "## Data Random Shuffle and Make Batch"
   ]
  },
  {
   "cell_type": "code",
   "execution_count": 12,
   "id": "b6c6fc3b-5962-4cfe-a45b-fbfbb7078456",
   "metadata": {},
   "outputs": [
    {
     "data": {
      "text/plain": [
       "<BatchDataset shapes: ((None, 28, 28, 1), (None,)), types: (tf.float32, tf.uint8)>"
      ]
     },
     "execution_count": 12,
     "metadata": {},
     "output_type": "execute_result"
    }
   ],
   "source": [
    "train_ds = tf.data.Dataset.from_tensor_slices((x_train, y_train)).shuffle(10000).batch(32)\n",
    "\n",
    "test_ds = tf.data.Dataset.from_tensor_slices((x_test, y_test)).batch(32)\n",
    "train_ds"
   ]
  },
  {
   "cell_type": "markdown",
   "id": "4be956e1-f35c-4d76-845b-3266ac9c132e",
   "metadata": {},
   "source": [
    "## Modeling using Keras API"
   ]
  },
  {
   "cell_type": "code",
   "execution_count": 13,
   "id": "68bbae86-8c28-4830-ab08-b6ab906a9f1a",
   "metadata": {},
   "outputs": [],
   "source": [
    "class MyModel(Model):\n",
    "    def __init__(self):\n",
    "        super(MyModel, self).__init__()\n",
    "        self.conv1 = Conv2D(32, 3, activation='relu')\n",
    "        self.flatten = Flatten()\n",
    "        self.d1 = Dense(128, activation='relu')\n",
    "        self.d2 = Dense(10)\n",
    "        \n",
    "    def call(self, x):\n",
    "        x = self.conv1(x)\n",
    "        x = self.flatten(x)\n",
    "        x = self.d1(x)\n",
    "        return self.d2(x)"
   ]
  },
  {
   "cell_type": "code",
   "execution_count": 14,
   "id": "de166dbb-a6c2-4c1d-a62a-cc7b23e5efab",
   "metadata": {},
   "outputs": [],
   "source": [
    "# create\n",
    "model = MyModel()"
   ]
  },
  {
   "cell_type": "markdown",
   "id": "75b17b89-fbe0-42ae-adaf-8edd44c14f8b",
   "metadata": {},
   "source": [
    "## Training\n",
    "### Loss Function"
   ]
  },
  {
   "cell_type": "code",
   "execution_count": 15,
   "id": "63ad21e9-9464-46b9-830c-6af09ab2e420",
   "metadata": {},
   "outputs": [],
   "source": [
    "loss_object = tf.keras.losses.SparseCategoricalCrossentropy(from_logits=True)\n",
    "optimizer = tf.keras.optimizers.Adam()"
   ]
  },
  {
   "cell_type": "code",
   "execution_count": 16,
   "id": "fd66aec7-08a6-4308-a7bc-c7274990494d",
   "metadata": {},
   "outputs": [],
   "source": [
    "train_loss = tf.keras.metrics.Mean(name='train_loss')\n",
    "train_accuracy = tf.keras.metrics.SparseCategoricalAccuracy(name='train_accuracy')\n",
    "\n",
    "test_loss = tf.keras.metrics.Mean(name='test_loss')\n",
    "test_accuracy = tf.keras.metrics.SparseCategoricalAccuracy(name='test_accuracy')\n"
   ]
  },
  {
   "cell_type": "markdown",
   "id": "50c5c3b7-b67e-4718-a7bb-f524487782d7",
   "metadata": {},
   "source": [
    "### Train Function"
   ]
  },
  {
   "cell_type": "code",
   "execution_count": 17,
   "id": "6b96f947-6433-4a84-a19f-17dc74335da8",
   "metadata": {},
   "outputs": [],
   "source": [
    "@tf.function\n",
    "def train_step(images, labels):\n",
    "    with tf.GradientTape() as tape:\n",
    "        # training=True : only needed if layers with different behavior \n",
    "        # during training versus inference (e.g. Dropout)\n",
    "        \n",
    "        predictions = model(images, training=True)\n",
    "        loss = loss_object(labels, predictions)\n",
    "    gradients = tape.gradient(loss, model.trainable_variables)\n",
    "    optimizer.apply_gradients(zip(gradients, model.trainable_variables))\n",
    "    \n",
    "    train_loss(loss)\n",
    "    train_accuracy(labels, predictions)"
   ]
  },
  {
   "cell_type": "markdown",
   "id": "32b1399b-06fd-4acf-8900-5850f4231054",
   "metadata": {},
   "source": [
    "## Test Function"
   ]
  },
  {
   "cell_type": "code",
   "execution_count": 18,
   "id": "dd1c6caf-df93-458d-a6bc-c9d3eb61e9dc",
   "metadata": {},
   "outputs": [],
   "source": [
    "@tf.function\n",
    "def test_step(images, labels):\n",
    "    predictions = model(images, training=False)\n",
    "    t_loss = loss_object(labels, predictions)\n",
    "    \n",
    "    test_loss(t_loss)\n",
    "    test_accuracy(labels, predictions)"
   ]
  },
  {
   "cell_type": "markdown",
   "id": "8a9a440c-8faf-41a5-8cf6-4678af42bb2d",
   "metadata": {},
   "source": [
    "### Trainig"
   ]
  },
  {
   "cell_type": "code",
   "execution_count": 25,
   "id": "78c32d40-cf12-4bf3-ac1d-d221e981c86a",
   "metadata": {},
   "outputs": [
    {
     "name": "stderr",
     "output_type": "stream",
     "text": [
      "  0%|                                                               | 0/5 [00:00<?, ?it/s]\n",
      "  0%|                                                            | 0/1875 [00:00<?, ?it/s]\u001b[A\n",
      "  0%|                                                    | 1/1875 [00:00<05:06,  6.11it/s]\u001b[A\n",
      "  0%|▏                                                   | 8/1875 [00:00<00:52, 35.40it/s]\u001b[A\n",
      "  1%|▍                                                  | 15/1875 [00:00<00:39, 47.26it/s]\u001b[A\n",
      "  1%|▌                                                  | 22/1875 [00:00<00:34, 54.45it/s]\u001b[A\n",
      "  2%|▊                                                  | 29/1875 [00:00<00:31, 58.87it/s]\u001b[A\n",
      "  2%|▉                                                  | 36/1875 [00:00<00:29, 62.25it/s]\u001b[A\n",
      "  2%|█▏                                                 | 43/1875 [00:00<00:29, 61.17it/s]\u001b[A\n",
      "  3%|█▎                                                 | 50/1875 [00:00<00:28, 63.77it/s]\u001b[A\n",
      "  3%|█▌                                                 | 57/1875 [00:01<00:28, 63.93it/s]\u001b[A\n",
      "  3%|█▋                                                 | 64/1875 [00:01<00:28, 63.91it/s]\u001b[A\n",
      "  4%|█▉                                                 | 72/1875 [00:01<00:27, 65.96it/s]\u001b[A\n",
      "  4%|██▏                                                | 79/1875 [00:01<00:26, 66.90it/s]\u001b[A\n",
      "  5%|██▎                                                | 86/1875 [00:01<00:27, 66.04it/s]\u001b[A\n",
      "  5%|██▌                                                | 93/1875 [00:01<00:26, 66.28it/s]\u001b[A\n",
      "  5%|██▋                                               | 100/1875 [00:01<00:26, 66.66it/s]\u001b[A\n",
      "  6%|██▊                                               | 107/1875 [00:01<00:27, 64.49it/s]\u001b[A\n",
      "  6%|███                                               | 114/1875 [00:01<00:27, 64.24it/s]\u001b[A\n",
      "  6%|███▏                                              | 121/1875 [00:01<00:27, 63.97it/s]\u001b[A\n",
      "  7%|███▍                                              | 128/1875 [00:02<00:26, 65.56it/s]\u001b[A\n",
      "  7%|███▌                                              | 135/1875 [00:02<00:28, 61.29it/s]\u001b[A\n",
      "  8%|███▊                                              | 142/1875 [00:02<00:27, 62.35it/s]\u001b[A\n",
      "  8%|███▉                                              | 149/1875 [00:02<00:27, 63.77it/s]\u001b[A\n",
      "  8%|████▏                                             | 156/1875 [00:02<00:26, 64.94it/s]\u001b[A\n",
      "  9%|████▎                                             | 163/1875 [00:02<00:26, 65.42it/s]\u001b[A\n",
      "  9%|████▌                                             | 170/1875 [00:02<00:25, 65.77it/s]\u001b[A\n",
      "  9%|████▋                                             | 177/1875 [00:02<00:25, 66.14it/s]\u001b[A\n",
      " 10%|████▉                                             | 184/1875 [00:02<00:25, 66.87it/s]\u001b[A\n",
      " 10%|█████                                             | 191/1875 [00:03<00:25, 66.23it/s]\u001b[A\n",
      " 11%|█████▎                                            | 198/1875 [00:03<00:25, 66.58it/s]\u001b[A\n",
      " 11%|█████▍                                            | 205/1875 [00:03<00:25, 65.51it/s]\u001b[A\n",
      " 11%|█████▋                                            | 212/1875 [00:03<00:25, 64.85it/s]\u001b[A\n",
      " 12%|█████▊                                            | 219/1875 [00:03<00:25, 65.83it/s]\u001b[A\n",
      " 12%|██████                                            | 226/1875 [00:03<00:24, 66.20it/s]\u001b[A\n",
      " 12%|██████▏                                           | 233/1875 [00:03<00:25, 65.58it/s]\u001b[A\n",
      " 13%|██████▍                                           | 240/1875 [00:03<00:24, 65.72it/s]\u001b[A\n",
      " 13%|██████▌                                           | 247/1875 [00:03<00:25, 64.21it/s]\u001b[A\n",
      " 14%|██████▊                                           | 254/1875 [00:04<00:25, 63.71it/s]\u001b[A\n",
      " 14%|██████▉                                           | 261/1875 [00:04<00:25, 63.69it/s]\u001b[A\n",
      " 14%|███████▏                                          | 268/1875 [00:04<00:25, 63.27it/s]\u001b[A\n",
      " 15%|███████▎                                          | 275/1875 [00:04<00:25, 63.82it/s]\u001b[A\n",
      " 15%|███████▌                                          | 282/1875 [00:04<00:24, 64.16it/s]\u001b[A\n",
      " 15%|███████▋                                          | 289/1875 [00:04<00:24, 65.65it/s]\u001b[A\n",
      " 16%|███████▉                                          | 296/1875 [00:04<00:23, 66.26it/s]\u001b[A\n",
      " 16%|████████                                          | 303/1875 [00:04<00:23, 65.99it/s]\u001b[A\n",
      " 17%|████████▎                                         | 310/1875 [00:04<00:24, 64.96it/s]\u001b[A\n",
      " 17%|████████▍                                         | 317/1875 [00:05<00:24, 63.61it/s]\u001b[A\n",
      " 17%|████████▋                                         | 324/1875 [00:05<00:24, 64.53it/s]\u001b[A\n",
      " 18%|████████▊                                         | 331/1875 [00:05<00:23, 64.55it/s]\u001b[A\n",
      " 18%|█████████                                         | 338/1875 [00:05<00:23, 64.60it/s]\u001b[A\n",
      " 18%|█████████▏                                        | 345/1875 [00:05<00:24, 62.70it/s]\u001b[A\n",
      " 19%|█████████▍                                        | 352/1875 [00:05<00:24, 62.65it/s]\u001b[A\n",
      " 19%|█████████▌                                        | 360/1875 [00:05<00:23, 65.07it/s]\u001b[A\n",
      " 20%|█████████▊                                        | 367/1875 [00:05<00:23, 63.25it/s]\u001b[A\n",
      " 20%|█████████▉                                        | 374/1875 [00:05<00:23, 63.23it/s]\u001b[A\n",
      " 20%|██████████▏                                       | 381/1875 [00:06<00:22, 65.03it/s]\u001b[A\n",
      " 21%|██████████▎                                       | 388/1875 [00:06<00:22, 65.07it/s]\u001b[A\n",
      " 21%|██████████▌                                       | 395/1875 [00:06<00:22, 65.66it/s]\u001b[A\n",
      " 21%|██████████▋                                       | 402/1875 [00:06<00:22, 66.38it/s]\u001b[A\n",
      " 22%|██████████▉                                       | 410/1875 [00:06<00:21, 67.74it/s]\u001b[A\n",
      " 22%|███████████                                       | 417/1875 [00:06<00:21, 67.53it/s]\u001b[A\n",
      " 23%|███████████▎                                      | 424/1875 [00:06<00:21, 67.83it/s]\u001b[A\n",
      " 23%|███████████▍                                      | 431/1875 [00:06<00:21, 67.65it/s]\u001b[A\n",
      " 23%|███████████▋                                      | 438/1875 [00:06<00:21, 65.38it/s]\u001b[A\n",
      " 24%|███████████▊                                      | 445/1875 [00:06<00:21, 66.48it/s]\u001b[A\n",
      " 24%|████████████                                      | 452/1875 [00:07<00:21, 65.72it/s]\u001b[A\n",
      " 24%|████████████▏                                     | 459/1875 [00:07<00:21, 65.65it/s]\u001b[A\n",
      " 25%|████████████▍                                     | 466/1875 [00:07<00:21, 65.98it/s]\u001b[A\n",
      " 25%|████████████▌                                     | 473/1875 [00:07<00:21, 65.42it/s]\u001b[A\n",
      " 26%|████████████▊                                     | 480/1875 [00:07<00:21, 65.18it/s]\u001b[A\n",
      " 26%|████████████▉                                     | 487/1875 [00:07<00:21, 63.74it/s]\u001b[A\n",
      " 26%|█████████████▏                                    | 494/1875 [00:07<00:22, 61.88it/s]\u001b[A\n",
      " 27%|█████████████▎                                    | 501/1875 [00:07<00:21, 62.54it/s]\u001b[A\n",
      " 27%|█████████████▌                                    | 508/1875 [00:07<00:21, 63.25it/s]\u001b[A\n",
      " 27%|█████████████▋                                    | 515/1875 [00:08<00:21, 62.00it/s]\u001b[A\n",
      " 28%|█████████████▉                                    | 522/1875 [00:08<00:21, 62.82it/s]\u001b[A\n",
      " 28%|██████████████                                    | 529/1875 [00:08<00:20, 64.26it/s]\u001b[A\n",
      " 29%|██████████████▎                                   | 536/1875 [00:08<00:21, 63.12it/s]\u001b[A\n",
      " 29%|██████████████▍                                   | 543/1875 [00:08<00:21, 62.76it/s]\u001b[A\n",
      " 29%|██████████████▋                                   | 550/1875 [00:08<00:20, 63.87it/s]\u001b[A\n",
      " 30%|██████████████▊                                   | 557/1875 [00:08<00:20, 63.27it/s]\u001b[A\n",
      " 30%|███████████████                                   | 567/1875 [00:08<00:20, 63.54it/s]\u001b[A\n",
      "  0%|                                                               | 0/5 [00:08<?, ?it/s]\n"
     ]
    },
    {
     "ename": "KeyboardInterrupt",
     "evalue": "",
     "output_type": "error",
     "traceback": [
      "\u001b[0;31m---------------------------------------------------------------------------\u001b[0m",
      "\u001b[0;31mKeyboardInterrupt\u001b[0m                         Traceback (most recent call last)",
      "\u001b[0;32m/var/folders/n3/tyz8rmjn4_v5fk7k4vy5_jpm0000gn/T/ipykernel_38570/2430767289.py\u001b[0m in \u001b[0;36m<module>\u001b[0;34m\u001b[0m\n\u001b[1;32m      8\u001b[0m \u001b[0;34m\u001b[0m\u001b[0m\n\u001b[1;32m      9\u001b[0m     \u001b[0;32mfor\u001b[0m \u001b[0mimages\u001b[0m\u001b[0;34m,\u001b[0m \u001b[0mlabels\u001b[0m \u001b[0;32min\u001b[0m \u001b[0mtqdm\u001b[0m\u001b[0;34m(\u001b[0m\u001b[0mtrain_ds\u001b[0m\u001b[0;34m)\u001b[0m\u001b[0;34m:\u001b[0m\u001b[0;34m\u001b[0m\u001b[0;34m\u001b[0m\u001b[0m\n\u001b[0;32m---> 10\u001b[0;31m         \u001b[0mtrain_step\u001b[0m\u001b[0;34m(\u001b[0m\u001b[0mimages\u001b[0m\u001b[0;34m,\u001b[0m \u001b[0mlabels\u001b[0m\u001b[0;34m)\u001b[0m\u001b[0;34m\u001b[0m\u001b[0;34m\u001b[0m\u001b[0m\n\u001b[0m\u001b[1;32m     11\u001b[0m     \u001b[0;32mfor\u001b[0m \u001b[0mtest_images\u001b[0m\u001b[0;34m,\u001b[0m \u001b[0mtest_labels\u001b[0m \u001b[0;32min\u001b[0m \u001b[0mtqdm\u001b[0m\u001b[0;34m(\u001b[0m\u001b[0mtest_ds\u001b[0m\u001b[0;34m)\u001b[0m\u001b[0;34m:\u001b[0m\u001b[0;34m\u001b[0m\u001b[0;34m\u001b[0m\u001b[0m\n\u001b[1;32m     12\u001b[0m         \u001b[0mtest_step\u001b[0m\u001b[0;34m(\u001b[0m\u001b[0mtest_images\u001b[0m\u001b[0;34m,\u001b[0m \u001b[0mtest_labels\u001b[0m\u001b[0;34m)\u001b[0m\u001b[0;34m\u001b[0m\u001b[0;34m\u001b[0m\u001b[0m\n",
      "\u001b[0;32m/usr/local/lib/python3.9/site-packages/tensorflow/python/eager/def_function.py\u001b[0m in \u001b[0;36m__call__\u001b[0;34m(self, *args, **kwds)\u001b[0m\n\u001b[1;32m    887\u001b[0m \u001b[0;34m\u001b[0m\u001b[0m\n\u001b[1;32m    888\u001b[0m       \u001b[0;32mwith\u001b[0m \u001b[0mOptionalXlaContext\u001b[0m\u001b[0;34m(\u001b[0m\u001b[0mself\u001b[0m\u001b[0;34m.\u001b[0m\u001b[0m_jit_compile\u001b[0m\u001b[0;34m)\u001b[0m\u001b[0;34m:\u001b[0m\u001b[0;34m\u001b[0m\u001b[0;34m\u001b[0m\u001b[0m\n\u001b[0;32m--> 889\u001b[0;31m         \u001b[0mresult\u001b[0m \u001b[0;34m=\u001b[0m \u001b[0mself\u001b[0m\u001b[0;34m.\u001b[0m\u001b[0m_call\u001b[0m\u001b[0;34m(\u001b[0m\u001b[0;34m*\u001b[0m\u001b[0margs\u001b[0m\u001b[0;34m,\u001b[0m \u001b[0;34m**\u001b[0m\u001b[0mkwds\u001b[0m\u001b[0;34m)\u001b[0m\u001b[0;34m\u001b[0m\u001b[0;34m\u001b[0m\u001b[0m\n\u001b[0m\u001b[1;32m    890\u001b[0m \u001b[0;34m\u001b[0m\u001b[0m\n\u001b[1;32m    891\u001b[0m       \u001b[0mnew_tracing_count\u001b[0m \u001b[0;34m=\u001b[0m \u001b[0mself\u001b[0m\u001b[0;34m.\u001b[0m\u001b[0mexperimental_get_tracing_count\u001b[0m\u001b[0;34m(\u001b[0m\u001b[0;34m)\u001b[0m\u001b[0;34m\u001b[0m\u001b[0;34m\u001b[0m\u001b[0m\n",
      "\u001b[0;32m/usr/local/lib/python3.9/site-packages/tensorflow/python/eager/def_function.py\u001b[0m in \u001b[0;36m_call\u001b[0;34m(self, *args, **kwds)\u001b[0m\n\u001b[1;32m    915\u001b[0m       \u001b[0;31m# In this case we have created variables on the first call, so we run the\u001b[0m\u001b[0;34m\u001b[0m\u001b[0;34m\u001b[0m\u001b[0m\n\u001b[1;32m    916\u001b[0m       \u001b[0;31m# defunned version which is guaranteed to never create variables.\u001b[0m\u001b[0;34m\u001b[0m\u001b[0;34m\u001b[0m\u001b[0m\n\u001b[0;32m--> 917\u001b[0;31m       \u001b[0;32mreturn\u001b[0m \u001b[0mself\u001b[0m\u001b[0;34m.\u001b[0m\u001b[0m_stateless_fn\u001b[0m\u001b[0;34m(\u001b[0m\u001b[0;34m*\u001b[0m\u001b[0margs\u001b[0m\u001b[0;34m,\u001b[0m \u001b[0;34m**\u001b[0m\u001b[0mkwds\u001b[0m\u001b[0;34m)\u001b[0m  \u001b[0;31m# pylint: disable=not-callable\u001b[0m\u001b[0;34m\u001b[0m\u001b[0;34m\u001b[0m\u001b[0m\n\u001b[0m\u001b[1;32m    918\u001b[0m     \u001b[0;32melif\u001b[0m \u001b[0mself\u001b[0m\u001b[0;34m.\u001b[0m\u001b[0m_stateful_fn\u001b[0m \u001b[0;32mis\u001b[0m \u001b[0;32mnot\u001b[0m \u001b[0;32mNone\u001b[0m\u001b[0;34m:\u001b[0m\u001b[0;34m\u001b[0m\u001b[0;34m\u001b[0m\u001b[0m\n\u001b[1;32m    919\u001b[0m       \u001b[0;31m# Release the lock early so that multiple threads can perform the call\u001b[0m\u001b[0;34m\u001b[0m\u001b[0;34m\u001b[0m\u001b[0m\n",
      "\u001b[0;32m/usr/local/lib/python3.9/site-packages/tensorflow/python/eager/function.py\u001b[0m in \u001b[0;36m__call__\u001b[0;34m(self, *args, **kwargs)\u001b[0m\n\u001b[1;32m   3021\u001b[0m       (graph_function,\n\u001b[1;32m   3022\u001b[0m        filtered_flat_args) = self._maybe_define_function(args, kwargs)\n\u001b[0;32m-> 3023\u001b[0;31m     return graph_function._call_flat(\n\u001b[0m\u001b[1;32m   3024\u001b[0m         filtered_flat_args, captured_inputs=graph_function.captured_inputs)  # pylint: disable=protected-access\n\u001b[1;32m   3025\u001b[0m \u001b[0;34m\u001b[0m\u001b[0m\n",
      "\u001b[0;32m/usr/local/lib/python3.9/site-packages/tensorflow/python/eager/function.py\u001b[0m in \u001b[0;36m_call_flat\u001b[0;34m(self, args, captured_inputs, cancellation_manager)\u001b[0m\n\u001b[1;32m   1958\u001b[0m         and executing_eagerly):\n\u001b[1;32m   1959\u001b[0m       \u001b[0;31m# No tape is watching; skip to running the function.\u001b[0m\u001b[0;34m\u001b[0m\u001b[0;34m\u001b[0m\u001b[0m\n\u001b[0;32m-> 1960\u001b[0;31m       return self._build_call_outputs(self._inference_function.call(\n\u001b[0m\u001b[1;32m   1961\u001b[0m           ctx, args, cancellation_manager=cancellation_manager))\n\u001b[1;32m   1962\u001b[0m     forward_backward = self._select_forward_and_backward_functions(\n",
      "\u001b[0;32m/usr/local/lib/python3.9/site-packages/tensorflow/python/eager/function.py\u001b[0m in \u001b[0;36mcall\u001b[0;34m(self, ctx, args, cancellation_manager)\u001b[0m\n\u001b[1;32m    589\u001b[0m       \u001b[0;32mwith\u001b[0m \u001b[0m_InterpolateFunctionError\u001b[0m\u001b[0;34m(\u001b[0m\u001b[0mself\u001b[0m\u001b[0;34m)\u001b[0m\u001b[0;34m:\u001b[0m\u001b[0;34m\u001b[0m\u001b[0;34m\u001b[0m\u001b[0m\n\u001b[1;32m    590\u001b[0m         \u001b[0;32mif\u001b[0m \u001b[0mcancellation_manager\u001b[0m \u001b[0;32mis\u001b[0m \u001b[0;32mNone\u001b[0m\u001b[0;34m:\u001b[0m\u001b[0;34m\u001b[0m\u001b[0;34m\u001b[0m\u001b[0m\n\u001b[0;32m--> 591\u001b[0;31m           outputs = execute.execute(\n\u001b[0m\u001b[1;32m    592\u001b[0m               \u001b[0mstr\u001b[0m\u001b[0;34m(\u001b[0m\u001b[0mself\u001b[0m\u001b[0;34m.\u001b[0m\u001b[0msignature\u001b[0m\u001b[0;34m.\u001b[0m\u001b[0mname\u001b[0m\u001b[0;34m)\u001b[0m\u001b[0;34m,\u001b[0m\u001b[0;34m\u001b[0m\u001b[0;34m\u001b[0m\u001b[0m\n\u001b[1;32m    593\u001b[0m               \u001b[0mnum_outputs\u001b[0m\u001b[0;34m=\u001b[0m\u001b[0mself\u001b[0m\u001b[0;34m.\u001b[0m\u001b[0m_num_outputs\u001b[0m\u001b[0;34m,\u001b[0m\u001b[0;34m\u001b[0m\u001b[0;34m\u001b[0m\u001b[0m\n",
      "\u001b[0;32m/usr/local/lib/python3.9/site-packages/tensorflow/python/eager/execute.py\u001b[0m in \u001b[0;36mquick_execute\u001b[0;34m(op_name, num_outputs, inputs, attrs, ctx, name)\u001b[0m\n\u001b[1;32m     57\u001b[0m   \u001b[0;32mtry\u001b[0m\u001b[0;34m:\u001b[0m\u001b[0;34m\u001b[0m\u001b[0;34m\u001b[0m\u001b[0m\n\u001b[1;32m     58\u001b[0m     \u001b[0mctx\u001b[0m\u001b[0;34m.\u001b[0m\u001b[0mensure_initialized\u001b[0m\u001b[0;34m(\u001b[0m\u001b[0;34m)\u001b[0m\u001b[0;34m\u001b[0m\u001b[0;34m\u001b[0m\u001b[0m\n\u001b[0;32m---> 59\u001b[0;31m     tensors = pywrap_tfe.TFE_Py_Execute(ctx._handle, device_name, op_name,\n\u001b[0m\u001b[1;32m     60\u001b[0m                                         inputs, attrs, num_outputs)\n\u001b[1;32m     61\u001b[0m   \u001b[0;32mexcept\u001b[0m \u001b[0mcore\u001b[0m\u001b[0;34m.\u001b[0m\u001b[0m_NotOkStatusException\u001b[0m \u001b[0;32mas\u001b[0m \u001b[0me\u001b[0m\u001b[0;34m:\u001b[0m\u001b[0;34m\u001b[0m\u001b[0;34m\u001b[0m\u001b[0m\n",
      "\u001b[0;31mKeyboardInterrupt\u001b[0m: "
     ]
    }
   ],
   "source": [
    "EPOCHS = 5\n",
    "for epoch in tqdm(range(EPOCHS)):\n",
    "    # reset the metrics at the start of the next epoch\n",
    "    train_loss.reset_states()\n",
    "    train_accuracy.reset_states\n",
    "    test_loss.reset_states()\n",
    "    test_accuracy.reset_states()\n",
    "    \n",
    "    for images, labels in tqdm(train_ds):\n",
    "        train_step(images, labels)\n",
    "    for test_images, test_labels in tqdm(test_ds):\n",
    "        test_step(test_images, test_labels)\n",
    "        \n",
    "    print(\n",
    "    f'Epoch {epoch + 1}, '\n",
    "    f'Loss: {train_loss.result()}, '\n",
    "    f'Accuracy: {train_accuracy.result() * 100}, '\n",
    "    f'Test Loss: {test_loss.result()}, '\n",
    "    f'Test Accuracy: {test_accuracy.result() * 100}'\n",
    "  )"
   ]
  },
  {
   "cell_type": "code",
   "execution_count": 21,
   "id": "8b480c45-729d-47bd-9bc3-ecf9a707a00f",
   "metadata": {},
   "outputs": [
    {
     "name": "stdout",
     "output_type": "stream",
     "text": [
      "EPOCH 2\n",
      "EPOCH 2\n"
     ]
    }
   ],
   "source": [
    "a = 1\n",
    "print(f'EPOCH {a+1}')\n",
    "print('EPOCH {}'.format(a+1))"
   ]
  },
  {
   "cell_type": "code",
   "execution_count": null,
   "id": "3d7eb1d7-5cc2-4928-b0fc-232bb864bc19",
   "metadata": {},
   "outputs": [],
   "source": []
  }
 ],
 "metadata": {
  "kernelspec": {
   "display_name": "Python 3 (ipykernel)",
   "language": "python",
   "name": "python3"
  },
  "language_info": {
   "codemirror_mode": {
    "name": "ipython",
    "version": 3
   },
   "file_extension": ".py",
   "mimetype": "text/x-python",
   "name": "python",
   "nbconvert_exporter": "python",
   "pygments_lexer": "ipython3",
   "version": "3.9.8"
  }
 },
 "nbformat": 4,
 "nbformat_minor": 5
}
